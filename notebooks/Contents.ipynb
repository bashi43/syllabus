{
 "cells": [
  {
   "cell_type": "markdown",
   "metadata": {},
   "source": [
    "# Data Analysis and Machine Learning Applications for Physicists"
   ]
  },
  {
   "cell_type": "markdown",
   "metadata": {},
   "source": [
    "<i>Material for a [University of Illinois](http://illinois.edu) course offered by the [Physics Department](https://physics.illinois.edu). This content is maintained on [GitHub](https://github.com/illinois-mla) and is distributed under a [BSD3 license](https://opensource.org/licenses/BSD-3-Clause).</i>"
   ]
  },
  {
   "cell_type": "markdown",
   "metadata": {},
   "source": [
    "## Contents"
   ]
  },
  {
   "cell_type": "markdown",
   "metadata": {},
   "source": [
    "- [Setup your environment](Setup.ipynb)\n",
    "- [Reading list](References.ipynb)\n",
    "- [Homework assignments](Homework.ipynb)\n",
    "- [Course introduction](Intro.ipynb)\n",
    "- [Notebooks and numerical python](JupyterNumpy.ipynb)\n",
    "- [Handle data](Pandas.ipynb)\n",
    "- [Visualize data](Visualization.ipynb)\n",
    "- [Find structure in data](Clustering.ipynb)\n",
    "- [Measure and reduce dimensionality](Dimensionality.ipynb)\n",
    "- [Adapt linear methods to nonlinear problems](Nonlinear.ipynb)\n",
    "- [Estimate probability density](Density.ipynb)\n",
    "- [Probability theory](Probability.ipynb)\n",
    "- [Statistical methods](Statistics.ipynb)\n",
    "- [Bayesian statistics](Bayes.ipynb)\n",
    "- [Markov-chain Monte Carlo in practice](MCMC.ipynb)\n",
    "- [Stochastic processes and Markov-chain theory](Markov.ipynb)\n",
    "- [Variational inference](Variational.ipynb)\n",
    "- [Optimization](Optimization.ipynb)\n",
    "- [Frameworks for computational graphs and probabilistic programming](Frameworks.ipynb)\n",
    "- [Bayesian model selection](ModelSelection.ipynb)\n",
    "- [Learning in a probabilistic context](Learning.ipynb)\n",
    "- [Supervised learning in Scikit Learn](Supervised.ipynb)\n",
    "- [Cross validation](CrossValidation.ipynb)\n",
    "- [Neural networks](NeuralNetworks.ipynb)\n",
    "- [Deep learning](DeepLearning.ipynb)"
   ]
  }
 ],
 "metadata": {
  "kernelspec": {
   "display_name": "Python 3",
   "language": "python",
   "name": "python3"
  },
  "language_info": {
   "codemirror_mode": {
    "name": "ipython",
    "version": 3
   },
   "file_extension": ".py",
   "mimetype": "text/x-python",
   "name": "python",
   "nbconvert_exporter": "python",
   "pygments_lexer": "ipython3",
   "version": "3.6.6"
  }
 },
 "nbformat": 4,
 "nbformat_minor": 2
}
